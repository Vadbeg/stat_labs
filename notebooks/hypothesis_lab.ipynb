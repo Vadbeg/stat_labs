{
 "cells": [
  {
   "cell_type": "code",
   "execution_count": 1,
   "id": "signed-necklace",
   "metadata": {},
   "outputs": [],
   "source": [
    "import scipy\n",
    "import numpy as np\n",
    "import mpmath as mp\n",
    "import pandas as pd\n",
    "import seaborn as sns\n",
    "import matplotlib.pyplot as plt\n",
    "\n",
    "sns.set()"
   ]
  },
  {
   "cell_type": "code",
   "execution_count": 2,
   "id": "confirmed-bunny",
   "metadata": {},
   "outputs": [],
   "source": [
    "class Config:\n",
    "    data_path = '/home/vadbeg/Projects/University/STAT/data/data_first.xlsx'\n",
    "    \n",
    "config = Config()"
   ]
  },
  {
   "cell_type": "markdown",
   "id": "conceptual-facing",
   "metadata": {},
   "source": [
    "## Load data"
   ]
  },
  {
   "cell_type": "code",
   "execution_count": 3,
   "id": "comparative-active",
   "metadata": {},
   "outputs": [
    {
     "data": {
      "text/html": [
       "<div>\n",
       "<style scoped>\n",
       "    .dataframe tbody tr th:only-of-type {\n",
       "        vertical-align: middle;\n",
       "    }\n",
       "\n",
       "    .dataframe tbody tr th {\n",
       "        vertical-align: top;\n",
       "    }\n",
       "\n",
       "    .dataframe thead th {\n",
       "        text-align: right;\n",
       "    }\n",
       "</style>\n",
       "<table border=\"1\" class=\"dataframe\">\n",
       "  <thead>\n",
       "    <tr style=\"text-align: right;\">\n",
       "      <th></th>\n",
       "      <th>WORK_1 (Satisfaction at work, first dimension)</th>\n",
       "      <th>WORK_2 (Satisfaction at work, second dimension)</th>\n",
       "      <th>WORK_3 (Satisfaction at work, third dimension)</th>\n",
       "      <th>HOBBY_1 (Leisure satisfaction, first dimension)</th>\n",
       "      <th>HOBBY_2 (Leisure Satisfaction, second dimension)</th>\n",
       "      <th>HOME_1 (Satisfaction at home, first dimension)</th>\n",
       "      <th>HOME_2 (Satisfaction at home, second dimension)</th>\n",
       "      <th>HOME_3 (Satisfaction at home, third dimension)</th>\n",
       "      <th>MISCEL_1 (General satisfaction, first dimension)</th>\n",
       "      <th>MISCEL_2 (General satisfaction, second dimension)</th>\n",
       "    </tr>\n",
       "  </thead>\n",
       "  <tbody>\n",
       "    <tr>\n",
       "      <th>0</th>\n",
       "      <td>10.512588</td>\n",
       "      <td>10.165870</td>\n",
       "      <td>11.506034</td>\n",
       "      <td>10.099814</td>\n",
       "      <td>9.518444</td>\n",
       "      <td>10.028127</td>\n",
       "      <td>10.166690</td>\n",
       "      <td>8.555301</td>\n",
       "      <td>10.403460</td>\n",
       "      <td>11.027806</td>\n",
       "    </tr>\n",
       "    <tr>\n",
       "      <th>1</th>\n",
       "      <td>7.704902</td>\n",
       "      <td>7.293342</td>\n",
       "      <td>7.748509</td>\n",
       "      <td>7.274369</td>\n",
       "      <td>6.156300</td>\n",
       "      <td>9.385405</td>\n",
       "      <td>9.539173</td>\n",
       "      <td>8.860931</td>\n",
       "      <td>7.011529</td>\n",
       "      <td>7.200030</td>\n",
       "    </tr>\n",
       "    <tr>\n",
       "      <th>2</th>\n",
       "      <td>8.601670</td>\n",
       "      <td>8.220648</td>\n",
       "      <td>7.888889</td>\n",
       "      <td>7.795118</td>\n",
       "      <td>9.170513</td>\n",
       "      <td>8.677338</td>\n",
       "      <td>10.807003</td>\n",
       "      <td>9.334780</td>\n",
       "      <td>8.602111</td>\n",
       "      <td>7.068790</td>\n",
       "    </tr>\n",
       "    <tr>\n",
       "      <th>3</th>\n",
       "      <td>9.142470</td>\n",
       "      <td>10.610654</td>\n",
       "      <td>9.563982</td>\n",
       "      <td>9.090057</td>\n",
       "      <td>11.146616</td>\n",
       "      <td>10.024840</td>\n",
       "      <td>8.608050</td>\n",
       "      <td>9.382205</td>\n",
       "      <td>10.122391</td>\n",
       "      <td>8.266547</td>\n",
       "    </tr>\n",
       "    <tr>\n",
       "      <th>4</th>\n",
       "      <td>11.371432</td>\n",
       "      <td>9.202872</td>\n",
       "      <td>9.907894</td>\n",
       "      <td>7.927742</td>\n",
       "      <td>9.841610</td>\n",
       "      <td>10.401266</td>\n",
       "      <td>8.327109</td>\n",
       "      <td>6.962148</td>\n",
       "      <td>8.282023</td>\n",
       "      <td>7.002229</td>\n",
       "    </tr>\n",
       "  </tbody>\n",
       "</table>\n",
       "</div>"
      ],
      "text/plain": [
       "   WORK_1 (Satisfaction at work, first dimension)  \\\n",
       "0                                       10.512588   \n",
       "1                                        7.704902   \n",
       "2                                        8.601670   \n",
       "3                                        9.142470   \n",
       "4                                       11.371432   \n",
       "\n",
       "   WORK_2 (Satisfaction at work, second dimension)  \\\n",
       "0                                        10.165870   \n",
       "1                                         7.293342   \n",
       "2                                         8.220648   \n",
       "3                                        10.610654   \n",
       "4                                         9.202872   \n",
       "\n",
       "   WORK_3 (Satisfaction at work, third dimension)  \\\n",
       "0                                       11.506034   \n",
       "1                                        7.748509   \n",
       "2                                        7.888889   \n",
       "3                                        9.563982   \n",
       "4                                        9.907894   \n",
       "\n",
       "   HOBBY_1 (Leisure satisfaction, first dimension)  \\\n",
       "0                                        10.099814   \n",
       "1                                         7.274369   \n",
       "2                                         7.795118   \n",
       "3                                         9.090057   \n",
       "4                                         7.927742   \n",
       "\n",
       "   HOBBY_2 (Leisure Satisfaction, second dimension)  \\\n",
       "0                                          9.518444   \n",
       "1                                          6.156300   \n",
       "2                                          9.170513   \n",
       "3                                         11.146616   \n",
       "4                                          9.841610   \n",
       "\n",
       "   HOME_1 (Satisfaction at home, first dimension)  \\\n",
       "0                                       10.028127   \n",
       "1                                        9.385405   \n",
       "2                                        8.677338   \n",
       "3                                       10.024840   \n",
       "4                                       10.401266   \n",
       "\n",
       "   HOME_2 (Satisfaction at home, second dimension)  \\\n",
       "0                                        10.166690   \n",
       "1                                         9.539173   \n",
       "2                                        10.807003   \n",
       "3                                         8.608050   \n",
       "4                                         8.327109   \n",
       "\n",
       "   HOME_3 (Satisfaction at home, third dimension)  \\\n",
       "0                                        8.555301   \n",
       "1                                        8.860931   \n",
       "2                                        9.334780   \n",
       "3                                        9.382205   \n",
       "4                                        6.962148   \n",
       "\n",
       "   MISCEL_1 (General satisfaction, first dimension)  \\\n",
       "0                                         10.403460   \n",
       "1                                          7.011529   \n",
       "2                                          8.602111   \n",
       "3                                         10.122391   \n",
       "4                                          8.282023   \n",
       "\n",
       "   MISCEL_2 (General satisfaction, second dimension)  \n",
       "0                                          11.027806  \n",
       "1                                           7.200030  \n",
       "2                                           7.068790  \n",
       "3                                           8.266547  \n",
       "4                                           7.002229  "
      ]
     },
     "execution_count": 3,
     "metadata": {},
     "output_type": "execute_result"
    }
   ],
   "source": [
    "data = pd.read_excel(config.data_path)\n",
    "\n",
    "data.head()"
   ]
  },
  {
   "cell_type": "code",
   "execution_count": 4,
   "id": "magnetic-launch",
   "metadata": {},
   "outputs": [
    {
     "name": "stdout",
     "output_type": "stream",
     "text": [
      "<class 'pandas.core.frame.DataFrame'>\n",
      "RangeIndex: 100 entries, 0 to 99\n",
      "Data columns (total 10 columns):\n",
      " #   Column                                             Non-Null Count  Dtype  \n",
      "---  ------                                             --------------  -----  \n",
      " 0   WORK_1 (Satisfaction at work, first dimension)     100 non-null    float64\n",
      " 1   WORK_2 (Satisfaction at work, second dimension)    100 non-null    float64\n",
      " 2   WORK_3 (Satisfaction at work, third dimension)     100 non-null    float64\n",
      " 3   HOBBY_1 (Leisure satisfaction, first dimension)    100 non-null    float64\n",
      " 4   HOBBY_2 (Leisure Satisfaction, second dimension)   100 non-null    float64\n",
      " 5   HOME_1 (Satisfaction at home, first dimension)     100 non-null    float64\n",
      " 6   HOME_2 (Satisfaction at home, second dimension)    100 non-null    float64\n",
      " 7   HOME_3 (Satisfaction at home, third dimension)     100 non-null    float64\n",
      " 8   MISCEL_1 (General satisfaction, first dimension)   100 non-null    float64\n",
      " 9   MISCEL_2 (General satisfaction, second dimension)  100 non-null    float64\n",
      "dtypes: float64(10)\n",
      "memory usage: 7.9 KB\n"
     ]
    }
   ],
   "source": [
    "data.info()"
   ]
  },
  {
   "cell_type": "code",
   "execution_count": 5,
   "id": "welcome-bidding",
   "metadata": {},
   "outputs": [
    {
     "data": {
      "text/html": [
       "<div>\n",
       "<style scoped>\n",
       "    .dataframe tbody tr th:only-of-type {\n",
       "        vertical-align: middle;\n",
       "    }\n",
       "\n",
       "    .dataframe tbody tr th {\n",
       "        vertical-align: top;\n",
       "    }\n",
       "\n",
       "    .dataframe thead th {\n",
       "        text-align: right;\n",
       "    }\n",
       "</style>\n",
       "<table border=\"1\" class=\"dataframe\">\n",
       "  <thead>\n",
       "    <tr style=\"text-align: right;\">\n",
       "      <th></th>\n",
       "      <th>WORK_1 (Satisfaction at work, first dimension)</th>\n",
       "      <th>WORK_2 (Satisfaction at work, second dimension)</th>\n",
       "      <th>WORK_3 (Satisfaction at work, third dimension)</th>\n",
       "      <th>HOBBY_1 (Leisure satisfaction, first dimension)</th>\n",
       "      <th>HOBBY_2 (Leisure Satisfaction, second dimension)</th>\n",
       "      <th>HOME_1 (Satisfaction at home, first dimension)</th>\n",
       "      <th>HOME_2 (Satisfaction at home, second dimension)</th>\n",
       "      <th>HOME_3 (Satisfaction at home, third dimension)</th>\n",
       "      <th>MISCEL_1 (General satisfaction, first dimension)</th>\n",
       "      <th>MISCEL_2 (General satisfaction, second dimension)</th>\n",
       "    </tr>\n",
       "  </thead>\n",
       "  <tbody>\n",
       "    <tr>\n",
       "      <th>count</th>\n",
       "      <td>100.000000</td>\n",
       "      <td>100.000000</td>\n",
       "      <td>100.000000</td>\n",
       "      <td>100.000000</td>\n",
       "      <td>100.000000</td>\n",
       "      <td>100.000000</td>\n",
       "      <td>100.000000</td>\n",
       "      <td>100.000000</td>\n",
       "      <td>100.000000</td>\n",
       "      <td>100.000000</td>\n",
       "    </tr>\n",
       "    <tr>\n",
       "      <th>mean</th>\n",
       "      <td>9.702958</td>\n",
       "      <td>9.816886</td>\n",
       "      <td>9.894298</td>\n",
       "      <td>9.802522</td>\n",
       "      <td>10.010813</td>\n",
       "      <td>9.950832</td>\n",
       "      <td>10.160288</td>\n",
       "      <td>10.137174</td>\n",
       "      <td>9.916294</td>\n",
       "      <td>9.822383</td>\n",
       "    </tr>\n",
       "    <tr>\n",
       "      <th>std</th>\n",
       "      <td>1.552089</td>\n",
       "      <td>1.126746</td>\n",
       "      <td>1.248538</td>\n",
       "      <td>1.593673</td>\n",
       "      <td>1.994109</td>\n",
       "      <td>1.197813</td>\n",
       "      <td>1.106155</td>\n",
       "      <td>1.273475</td>\n",
       "      <td>1.696749</td>\n",
       "      <td>1.911151</td>\n",
       "    </tr>\n",
       "    <tr>\n",
       "      <th>min</th>\n",
       "      <td>6.087592</td>\n",
       "      <td>6.590304</td>\n",
       "      <td>6.766254</td>\n",
       "      <td>5.460380</td>\n",
       "      <td>4.708794</td>\n",
       "      <td>7.375912</td>\n",
       "      <td>7.636383</td>\n",
       "      <td>6.962148</td>\n",
       "      <td>4.897767</td>\n",
       "      <td>5.005584</td>\n",
       "    </tr>\n",
       "    <tr>\n",
       "      <th>25%</th>\n",
       "      <td>8.648357</td>\n",
       "      <td>9.119591</td>\n",
       "      <td>9.105859</td>\n",
       "      <td>8.671417</td>\n",
       "      <td>8.916379</td>\n",
       "      <td>9.240690</td>\n",
       "      <td>9.506413</td>\n",
       "      <td>9.392412</td>\n",
       "      <td>8.841135</td>\n",
       "      <td>8.734123</td>\n",
       "    </tr>\n",
       "    <tr>\n",
       "      <th>50%</th>\n",
       "      <td>9.490816</td>\n",
       "      <td>9.789210</td>\n",
       "      <td>9.826256</td>\n",
       "      <td>9.969006</td>\n",
       "      <td>9.826405</td>\n",
       "      <td>9.889987</td>\n",
       "      <td>10.055039</td>\n",
       "      <td>9.990333</td>\n",
       "      <td>10.009557</td>\n",
       "      <td>9.668354</td>\n",
       "    </tr>\n",
       "    <tr>\n",
       "      <th>75%</th>\n",
       "      <td>10.599011</td>\n",
       "      <td>10.555221</td>\n",
       "      <td>10.739002</td>\n",
       "      <td>10.717705</td>\n",
       "      <td>11.196080</td>\n",
       "      <td>10.845140</td>\n",
       "      <td>11.075875</td>\n",
       "      <td>10.873016</td>\n",
       "      <td>10.894313</td>\n",
       "      <td>10.899156</td>\n",
       "    </tr>\n",
       "    <tr>\n",
       "      <th>max</th>\n",
       "      <td>13.887606</td>\n",
       "      <td>13.161053</td>\n",
       "      <td>12.922293</td>\n",
       "      <td>15.527287</td>\n",
       "      <td>17.597422</td>\n",
       "      <td>13.397865</td>\n",
       "      <td>13.288410</td>\n",
       "      <td>13.747925</td>\n",
       "      <td>15.075965</td>\n",
       "      <td>15.444268</td>\n",
       "    </tr>\n",
       "  </tbody>\n",
       "</table>\n",
       "</div>"
      ],
      "text/plain": [
       "       WORK_1 (Satisfaction at work, first dimension)  \\\n",
       "count                                      100.000000   \n",
       "mean                                         9.702958   \n",
       "std                                          1.552089   \n",
       "min                                          6.087592   \n",
       "25%                                          8.648357   \n",
       "50%                                          9.490816   \n",
       "75%                                         10.599011   \n",
       "max                                         13.887606   \n",
       "\n",
       "       WORK_2 (Satisfaction at work, second dimension)  \\\n",
       "count                                       100.000000   \n",
       "mean                                          9.816886   \n",
       "std                                           1.126746   \n",
       "min                                           6.590304   \n",
       "25%                                           9.119591   \n",
       "50%                                           9.789210   \n",
       "75%                                          10.555221   \n",
       "max                                          13.161053   \n",
       "\n",
       "       WORK_3 (Satisfaction at work, third dimension)  \\\n",
       "count                                      100.000000   \n",
       "mean                                         9.894298   \n",
       "std                                          1.248538   \n",
       "min                                          6.766254   \n",
       "25%                                          9.105859   \n",
       "50%                                          9.826256   \n",
       "75%                                         10.739002   \n",
       "max                                         12.922293   \n",
       "\n",
       "       HOBBY_1 (Leisure satisfaction, first dimension)  \\\n",
       "count                                       100.000000   \n",
       "mean                                          9.802522   \n",
       "std                                           1.593673   \n",
       "min                                           5.460380   \n",
       "25%                                           8.671417   \n",
       "50%                                           9.969006   \n",
       "75%                                          10.717705   \n",
       "max                                          15.527287   \n",
       "\n",
       "       HOBBY_2 (Leisure Satisfaction, second dimension)  \\\n",
       "count                                        100.000000   \n",
       "mean                                          10.010813   \n",
       "std                                            1.994109   \n",
       "min                                            4.708794   \n",
       "25%                                            8.916379   \n",
       "50%                                            9.826405   \n",
       "75%                                           11.196080   \n",
       "max                                           17.597422   \n",
       "\n",
       "       HOME_1 (Satisfaction at home, first dimension)  \\\n",
       "count                                      100.000000   \n",
       "mean                                         9.950832   \n",
       "std                                          1.197813   \n",
       "min                                          7.375912   \n",
       "25%                                          9.240690   \n",
       "50%                                          9.889987   \n",
       "75%                                         10.845140   \n",
       "max                                         13.397865   \n",
       "\n",
       "       HOME_2 (Satisfaction at home, second dimension)  \\\n",
       "count                                       100.000000   \n",
       "mean                                         10.160288   \n",
       "std                                           1.106155   \n",
       "min                                           7.636383   \n",
       "25%                                           9.506413   \n",
       "50%                                          10.055039   \n",
       "75%                                          11.075875   \n",
       "max                                          13.288410   \n",
       "\n",
       "       HOME_3 (Satisfaction at home, third dimension)  \\\n",
       "count                                      100.000000   \n",
       "mean                                        10.137174   \n",
       "std                                          1.273475   \n",
       "min                                          6.962148   \n",
       "25%                                          9.392412   \n",
       "50%                                          9.990333   \n",
       "75%                                         10.873016   \n",
       "max                                         13.747925   \n",
       "\n",
       "       MISCEL_1 (General satisfaction, first dimension)  \\\n",
       "count                                        100.000000   \n",
       "mean                                           9.916294   \n",
       "std                                            1.696749   \n",
       "min                                            4.897767   \n",
       "25%                                            8.841135   \n",
       "50%                                           10.009557   \n",
       "75%                                           10.894313   \n",
       "max                                           15.075965   \n",
       "\n",
       "       MISCEL_2 (General satisfaction, second dimension)  \n",
       "count                                         100.000000  \n",
       "mean                                            9.822383  \n",
       "std                                             1.911151  \n",
       "min                                             5.005584  \n",
       "25%                                             8.734123  \n",
       "50%                                             9.668354  \n",
       "75%                                            10.899156  \n",
       "max                                            15.444268  "
      ]
     },
     "execution_count": 5,
     "metadata": {},
     "output_type": "execute_result"
    }
   ],
   "source": [
    "data.describe()"
   ]
  },
  {
   "cell_type": "code",
   "execution_count": 6,
   "id": "artificial-disease",
   "metadata": {},
   "outputs": [
    {
     "data": {
      "text/plain": [
       "'HOME_1 (Satisfaction at home, first dimension)'"
      ]
     },
     "execution_count": 6,
     "metadata": {},
     "output_type": "execute_result"
    }
   ],
   "source": [
    "data.columns[5]"
   ]
  },
  {
   "cell_type": "markdown",
   "id": "million-third",
   "metadata": {},
   "source": [
    "## Functions "
   ]
  },
  {
   "cell_type": "code",
   "execution_count": 7,
   "id": "finnish-haven",
   "metadata": {},
   "outputs": [],
   "source": [
    "def calculate_value(dispersion: float, sample_mean: float, alt_mean: float, num_of_values: int) -> float:\n",
    "    t_value = (sample_mean - alt_mean) * np.sqrt(num_of_values) / np.sqrt(dispersion)\n",
    "    \n",
    "    return t_value\n",
    "\n",
    "\n",
    "def get_critical_value(p: float, is_both_tails: bool = True):\n",
    "    alpha = p\n",
    "    \n",
    "    if not is_both_tails:\n",
    "        alpha = alpha * 2\n",
    "\n",
    "    critical_value = (1 - alpha) / 2\n",
    "    \n",
    "    return critical_value\n",
    "\n",
    "def get_laplace_function_value(x: float):\n",
    "    value = x / np.sqrt(2)\n",
    "    value = scipy.special.erf(value) / 2\n",
    "\n",
    "    return value\n",
    "\n",
    "def get_inverse_laplace_function_value(x: float):\n",
    "    value = scipy.stats.norm.ppf(x + 0.5)\n",
    "    \n",
    "    return value\n",
    "\n",
    "\n",
    "def calculate_sample_dispersion(x_list) -> float:\n",
    "    x_list = np.array(x_list)\n",
    "    x_list = x_list - np.mean(x_list)\n",
    "    x_list = x_list ** 2\n",
    "    \n",
    "    sample_dispersion = np.sum(x_list) / (len(x_list) - 1)\n",
    "    \n",
    "    return sample_dispersion\n",
    "    \n",
    "    \n",
    "def calculate_xi_squared(num_of_values: int, sample_dispersion: float, hypothesis_dispersion: float):\n",
    "    xi_squeared_value  = (num_of_values - 1) * sample_dispersion / hypothesis_dispersion\n",
    "    \n",
    "    return xi_squeared_value\n",
    "\n",
    "def get_probability_density_function_value(xi_squeared_value: float, degree_freedom_num: int = 1):\n",
    "    probability_density_function_value = scipy.stats.chi2.cdf(xi_squeared_value, degree_freedom_num)\n",
    "    \n",
    "    return probability_density_function_value\n",
    "\n",
    "def get_confidence_interval_value(confidence_value: float, degree_freedom_num: int = 1):\n",
    "    confidence_interval_value = scipy.stats.distributions.chi2.ppf(\n",
    "        q=confidence_value, \n",
    "        df=degree_freedom_num\n",
    "    )\n",
    "    \n",
    "    return confidence_interval_value\n",
    "    "
   ]
  },
  {
   "cell_type": "markdown",
   "id": "proof-ranch",
   "metadata": {},
   "source": [
    "## Dispersion is known\n",
    "\n",
    "Н1 : μ ≠ μ0"
   ]
  },
  {
   "cell_type": "code",
   "execution_count": 8,
   "id": "remarkable-danger",
   "metadata": {},
   "outputs": [],
   "source": [
    "dispersion = 1.0\n",
    "mu_0 = 7\n",
    "p = 0.03"
   ]
  },
  {
   "cell_type": "code",
   "execution_count": 9,
   "id": "composed-motorcycle",
   "metadata": {},
   "outputs": [
    {
     "name": "stdout",
     "output_type": "stream",
     "text": [
      "Examined feature (HOBBY_1 (Leisure satisfaction, first dimension)) stats:\n"
     ]
    },
    {
     "data": {
      "text/plain": [
       "count    100.000000\n",
       "mean       9.802522\n",
       "std        1.593673\n",
       "min        5.460380\n",
       "25%        8.671417\n",
       "50%        9.969006\n",
       "75%       10.717705\n",
       "max       15.527287\n",
       "Name: HOBBY_1 (Leisure satisfaction, first dimension), dtype: float64"
      ]
     },
     "execution_count": 9,
     "metadata": {},
     "output_type": "execute_result"
    }
   ],
   "source": [
    "examined_column = 'HOBBY_1 (Leisure satisfaction, first dimension)'\n",
    "examined_feature_data = data[examined_column]\n",
    "\n",
    "print(f'Examined feature ({examined_column}) stats:')\n",
    "examined_feature_data.describe()"
   ]
  },
  {
   "cell_type": "code",
   "execution_count": 10,
   "id": "homeless-discretion",
   "metadata": {},
   "outputs": [
    {
     "data": {
      "text/plain": [
       "<AxesSubplot:>"
      ]
     },
     "execution_count": 10,
     "metadata": {},
     "output_type": "execute_result"
    },
    {
     "data": {
      "image/png": "[encoded data removed]",
      "text/plain": [
       "<Figure size 432x288 with 1 Axes>"
      ]
     },
     "metadata": {},
     "output_type": "display_data"
    }
   ],
   "source": [
    "examined_feature_data.hist(bins=20)"
   ]
  },
  {
   "cell_type": "code",
   "execution_count": 11,
   "id": "nonprofit-armenia",
   "metadata": {},
   "outputs": [
    {
     "name": "stdout",
     "output_type": "stream",
     "text": [
      "Feature mean: 9.802522298945599\n",
      "Num of values: 100\n",
      "T value: 28.025222989455987\n"
     ]
    }
   ],
   "source": [
    "examined_feature_mean = np.mean(examined_feature_data)\n",
    "examined_feature_length = len(examined_feature_data)\n",
    "\n",
    "dist_value = calculate_value(\n",
    "    dispersion=dispersion,\n",
    "    sample_mean=examined_feature_mean, \n",
    "    alt_mean=mu_0,\n",
    "    num_of_values=examined_feature_length\n",
    ")\n",
    "\n",
    "print(f'Feature mean: {examined_feature_mean}')\n",
    "print(f'Num of values: {examined_feature_length}')\n",
    "print(f'T value: {dist_value}')"
   ]
  },
  {
   "cell_type": "code",
   "execution_count": 12,
   "id": "german-frequency",
   "metadata": {},
   "outputs": [
    {
     "name": "stdout",
     "output_type": "stream",
     "text": [
      "Critical value: 0.485\n"
     ]
    }
   ],
   "source": [
    "critical_value = get_critical_value(p=p, is_both_tails=True)\n",
    "\n",
    "print(f'Critical value: {critical_value}')"
   ]
  },
  {
   "cell_type": "code",
   "execution_count": 13,
   "id": "roman-criminal",
   "metadata": {},
   "outputs": [
    {
     "name": "stdout",
     "output_type": "stream",
     "text": [
      "Dist value critical: 2.17009037758456\n"
     ]
    }
   ],
   "source": [
    "dist_value_critical = get_inverse_laplace_function_value(critical_value)\n",
    "\n",
    "print(f'Dist value critical: {dist_value_critical}')"
   ]
  },
  {
   "cell_type": "code",
   "execution_count": 14,
   "id": "disabled-millennium",
   "metadata": {},
   "outputs": [
    {
     "name": "stdout",
     "output_type": "stream",
     "text": [
      "For p value: 0.03 H_0 theory is False\n"
     ]
    }
   ],
   "source": [
    "result_value_is_left = dist_value < -dist_value_critical\n",
    "result_value_is_right = dist_value > dist_value_critical\n",
    "\n",
    "result_value = result_value_is_left or result_value_is_right\n",
    "\n",
    "print(f'For p value: {p} H_0 theory is {not result_value}')"
   ]
  },
  {
   "cell_type": "markdown",
   "id": "nasty-lounge",
   "metadata": {},
   "source": [
    "## Dispersion is not known\n",
    "\n",
    "\n",
    "Н1 : μ > μ0"
   ]
  },
  {
   "cell_type": "code",
   "execution_count": 15,
   "id": "documentary-wells",
   "metadata": {},
   "outputs": [],
   "source": [
    "mu_0 = 6\n",
    "p = 0.04"
   ]
  },
  {
   "cell_type": "code",
   "execution_count": 16,
   "id": "considered-carolina",
   "metadata": {},
   "outputs": [
    {
     "name": "stdout",
     "output_type": "stream",
     "text": [
      "Examined feature (HOME_3 (Satisfaction at home, third dimension)) stats:\n"
     ]
    },
    {
     "data": {
      "text/plain": [
       "count    100.000000\n",
       "mean      10.137174\n",
       "std        1.273475\n",
       "min        6.962148\n",
       "25%        9.392412\n",
       "50%        9.990333\n",
       "75%       10.873016\n",
       "max       13.747925\n",
       "Name: HOME_3 (Satisfaction at home, third dimension), dtype: float64"
      ]
     },
     "execution_count": 16,
     "metadata": {},
     "output_type": "execute_result"
    }
   ],
   "source": [
    "examined_column = 'HOME_3 (Satisfaction at home, third dimension)'\n",
    "examined_feature_data = data[examined_column]\n",
    "\n",
    "print(f'Examined feature ({examined_column}) stats:')\n",
    "examined_feature_data.describe()"
   ]
  },
  {
   "cell_type": "code",
   "execution_count": 17,
   "id": "independent-uniform",
   "metadata": {},
   "outputs": [
    {
     "data": {
      "text/plain": [
       "<AxesSubplot:>"
      ]
     },
     "execution_count": 17,
     "metadata": {},
     "output_type": "execute_result"
    },
    {
     "data": {
      "image/png": "[encoded data removed]",
      "text/plain": [
       "<Figure size 432x288 with 1 Axes>"
      ]
     },
     "metadata": {},
     "output_type": "display_data"
    }
   ],
   "source": [
    "examined_feature_data.hist(bins=20)"
   ]
  },
  {
   "cell_type": "code",
   "execution_count": 18,
   "id": "silent-facing",
   "metadata": {},
   "outputs": [
    {
     "name": "stdout",
     "output_type": "stream",
     "text": [
      "Sample dispersion: 1.6217387765270723\n"
     ]
    }
   ],
   "source": [
    "sample_dispersion = calculate_sample_dispersion(examined_feature_data)\n",
    "\n",
    "print(f'Sample dispersion: {sample_dispersion}')"
   ]
  },
  {
   "cell_type": "code",
   "execution_count": 19,
   "id": "gorgeous-reader",
   "metadata": {},
   "outputs": [
    {
     "name": "stdout",
     "output_type": "stream",
     "text": [
      "Feature mean: 10.137173650375471\n",
      "Num of values: 100\n",
      "T value: 32.48727610763902\n"
     ]
    }
   ],
   "source": [
    "examined_feature_mean = np.mean(examined_feature_data)\n",
    "examined_feature_length = len(examined_feature_data)\n",
    "\n",
    "\n",
    "dist_value = calculate_value(\n",
    "    dispersion=sample_dispersion,\n",
    "    sample_mean=examined_feature_mean, \n",
    "    alt_mean=mu_0,\n",
    "    num_of_values=examined_feature_length\n",
    ")\n",
    "\n",
    "print(f'Feature mean: {examined_feature_mean}')\n",
    "print(f'Num of values: {examined_feature_length}')\n",
    "print(f'T value: {dist_value}')"
   ]
  },
  {
   "cell_type": "code",
   "execution_count": 20,
   "id": "designing-puzzle",
   "metadata": {},
   "outputs": [
    {
     "name": "stdout",
     "output_type": "stream",
     "text": [
      "Critical value: 0.46\n"
     ]
    }
   ],
   "source": [
    "critical_value = get_critical_value(p=p, is_both_tails=False)\n",
    "\n",
    "print(f'Critical value: {critical_value}')"
   ]
  },
  {
   "cell_type": "code",
   "execution_count": 21,
   "id": "useful-child",
   "metadata": {},
   "outputs": [
    {
     "name": "stdout",
     "output_type": "stream",
     "text": [
      "Dist value critical: 1.7506860712521692\n"
     ]
    }
   ],
   "source": [
    "dist_value_critical = get_inverse_laplace_function_value(critical_value)\n",
    "\n",
    "print(f'Dist value critical: {dist_value_critical}')"
   ]
  },
  {
   "cell_type": "code",
   "execution_count": 22,
   "id": "individual-welsh",
   "metadata": {},
   "outputs": [
    {
     "name": "stdout",
     "output_type": "stream",
     "text": [
      "For p value: 0.04 H_0 theory is False\n"
     ]
    }
   ],
   "source": [
    "# result_value_is_left = critical_value < dist_value_critical\n",
    "result_value_is_right = dist_value > dist_value_critical\n",
    "\n",
    "# result_value = result_value_is_left or result_value_is_right\n",
    "\n",
    "print(f'For p value: {p} H_0 theory is {not result_value_is_right}')"
   ]
  },
  {
   "cell_type": "markdown",
   "id": "center-thread",
   "metadata": {},
   "source": [
    "## Dispersion value hypothesis\n",
    "\n",
    "$$H0: \\sigma^2 =\\sigma_{0}^2$$\n",
    "$$H1: \\sigma^2 \\neq \\sigma_{0}^2$$"
   ]
  },
  {
   "cell_type": "code",
   "execution_count": 23,
   "id": "roman-audience",
   "metadata": {},
   "outputs": [],
   "source": [
    "dispersion_0 = 2\n",
    "p = 0.01"
   ]
  },
  {
   "cell_type": "code",
   "execution_count": 24,
   "id": "liberal-performer",
   "metadata": {},
   "outputs": [
    {
     "name": "stdout",
     "output_type": "stream",
     "text": [
      "Examined feature (HOME_1 (Satisfaction at home, first dimension)) stats:\n"
     ]
    },
    {
     "data": {
      "text/plain": [
       "count    100.000000\n",
       "mean       9.950832\n",
       "std        1.197813\n",
       "min        7.375912\n",
       "25%        9.240690\n",
       "50%        9.889987\n",
       "75%       10.845140\n",
       "max       13.397865\n",
       "Name: HOME_1 (Satisfaction at home, first dimension), dtype: float64"
      ]
     },
     "execution_count": 24,
     "metadata": {},
     "output_type": "execute_result"
    }
   ],
   "source": [
    "examined_column = 'HOME_1 (Satisfaction at home, first dimension)'\n",
    "examined_feature_data = data[examined_column]\n",
    "\n",
    "print(f'Examined feature ({examined_column}) stats:')\n",
    "examined_feature_data.describe()"
   ]
  },
  {
   "cell_type": "code",
   "execution_count": 25,
   "id": "registered-material",
   "metadata": {},
   "outputs": [
    {
     "data": {
      "text/plain": [
       "<AxesSubplot:>"
      ]
     },
     "execution_count": 25,
     "metadata": {},
     "output_type": "execute_result"
    },
    {
     "data": {
      "image/png": "[encoded data removed]",
      "text/plain": [
       "<Figure size 432x288 with 1 Axes>"
      ]
     },
     "metadata": {},
     "output_type": "display_data"
    }
   ],
   "source": [
    "examined_feature_data.hist(bins=20)"
   ]
  },
  {
   "cell_type": "code",
   "execution_count": 26,
   "id": "solved-coral",
   "metadata": {},
   "outputs": [
    {
     "name": "stdout",
     "output_type": "stream",
     "text": [
      "Sample dispersion: 1.4347561348622884\n"
     ]
    }
   ],
   "source": [
    "sample_dispersion = calculate_sample_dispersion(examined_feature_data)\n",
    "\n",
    "print(f'Sample dispersion: {sample_dispersion}')"
   ]
  },
  {
   "cell_type": "code",
   "execution_count": 27,
   "id": "individual-length",
   "metadata": {},
   "outputs": [
    {
     "name": "stdout",
     "output_type": "stream",
     "text": [
      "Xi squared value: 71.02042867568328\n"
     ]
    }
   ],
   "source": [
    "examined_feature_mean = np.mean(examined_feature_data)\n",
    "examined_feature_length = len(examined_feature_data)\n",
    "\n",
    "\n",
    "xi_squared_value = calculate_xi_squared(\n",
    "    num_of_values=examined_feature_length,\n",
    "    sample_dispersion=sample_dispersion,\n",
    "    hypothesis_dispersion=dispersion_0\n",
    ")\n",
    "\n",
    "print(f'Xi squared value: {xi_squared_value}')"
   ]
  },
  {
   "cell_type": "code",
   "execution_count": 28,
   "id": "worth-kitchen",
   "metadata": {},
   "outputs": [
    {
     "name": "stdout",
     "output_type": "stream",
     "text": [
      "Probability density function value: 0.015164779338946534\n"
     ]
    }
   ],
   "source": [
    "probability_density_function_value = get_probability_density_function_value(\n",
    "    xi_squeared_value=xi_squared_value,\n",
    "    degree_freedom_num=examined_feature_length - 1\n",
    ")\n",
    "\n",
    "print(f'Probability density function value: {probability_density_function_value}')"
   ]
  },
  {
   "cell_type": "code",
   "execution_count": 29,
   "id": "russian-aggregate",
   "metadata": {},
   "outputs": [
    {
     "name": "stdout",
     "output_type": "stream",
     "text": [
      "start_confidence_interval_value: 66.51010530173737\n",
      "end_confidence_interval_value: 138.98678345093953\n"
     ]
    }
   ],
   "source": [
    "start_interval_value = p / 2\n",
    "end_interval_value = 1 - p / 2\n",
    "\n",
    "start_confidence_interval_value = get_confidence_interval_value(\n",
    "    confidence_value=start_interval_value,\n",
    "    degree_freedom_num=examined_feature_length - 1\n",
    ")\n",
    "\n",
    "end_confidence_interval_value = get_confidence_interval_value(\n",
    "    confidence_value=end_interval_value,\n",
    "    degree_freedom_num=examined_feature_length - 1\n",
    ")\n",
    "\n",
    "print(f'start_confidence_interval_value: {start_confidence_interval_value}')\n",
    "print(f'end_confidence_interval_value: {end_confidence_interval_value}')"
   ]
  },
  {
   "cell_type": "code",
   "execution_count": 30,
   "id": "passing-facial",
   "metadata": {},
   "outputs": [
    {
     "name": "stdout",
     "output_type": "stream",
     "text": [
      "For p value: 0.01 H_0 theory is True\n"
     ]
    }
   ],
   "source": [
    "result_value_is_left = xi_squared_value < start_confidence_interval_value\n",
    "result_value_is_right = xi_squared_value > end_confidence_interval_value\n",
    "\n",
    "# result_value = result_value_is_left or result_value_is_right\n",
    "\n",
    "print(f'For p value: {p} H_0 theory is {not result_value_is_right}')"
   ]
  }
 ],
 "metadata": {
  "kernelspec": {
   "display_name": "Python 3",
   "language": "python",
   "name": "python3"
  },
  "language_info": {
   "codemirror_mode": {
    "name": "ipython",
    "version": 3
   },
   "file_extension": ".py",
   "mimetype": "text/x-python",
   "name": "python",
   "nbconvert_exporter": "python",
   "pygments_lexer": "ipython3",
   "version": "3.8.5"
  }
 },
 "nbformat": 4,
 "nbformat_minor": 5
}

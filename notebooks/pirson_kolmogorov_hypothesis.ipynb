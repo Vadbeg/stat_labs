{
 "cells": [
  {
   "cell_type": "code",
   "execution_count": 1,
   "id": "comprehensive-checkout",
   "metadata": {},
   "outputs": [],
   "source": [
    "import scipy\n",
    "import numpy as np\n",
    "import mpmath as mp\n",
    "import pandas as pd\n",
    "import seaborn as sns\n",
    "import matplotlib.pyplot as plt\n",
    "\n",
    "from sklearn import datasets\n",
    "\n",
    "sns.set()"
   ]
  },
  {
   "cell_type": "markdown",
   "id": "competitive-python",
   "metadata": {},
   "source": [
    "## Functions"
   ]
  },
  {
   "cell_type": "code",
   "execution_count": 2,
   "id": "coordinate-upgrade",
   "metadata": {},
   "outputs": [],
   "source": [
    "def calculate_value(dispersion: float, sample_mean: float, alt_mean: float, num_of_values: int) -> float:\n",
    "    t_value = (sample_mean - alt_mean) * np.sqrt(num_of_values) / np.sqrt(dispersion)\n",
    "    \n",
    "    return t_value\n",
    "\n",
    "\n",
    "def get_critical_value(p: float, is_both_tails: bool = True):\n",
    "    alpha = p\n",
    "    \n",
    "    if not is_both_tails:\n",
    "        alpha = alpha * 2\n",
    "\n",
    "    critical_value = (1 - alpha) / 2\n",
    "    \n",
    "    return critical_value\n",
    "\n",
    "def get_laplace_function_value(x: float):\n",
    "    value = x / np.sqrt(2)\n",
    "    value = scipy.special.erf(value) / 2\n",
    "\n",
    "    return value\n",
    "\n",
    "def get_inverse_laplace_function_value(x: float):\n",
    "    value = scipy.stats.norm.ppf(x + 0.5)\n",
    "    \n",
    "    return value\n",
    "\n",
    "\n",
    "def calculate_sample_dispersion(x_list) -> float:\n",
    "    x_list = np.array(x_list)\n",
    "    x_list = x_list - np.mean(x_list)\n",
    "    x_list = x_list ** 2\n",
    "    \n",
    "    sample_dispersion = np.sum(x_list) / (len(x_list) - 1)\n",
    "    \n",
    "    return sample_dispersion\n",
    "    \n",
    "    \n",
    "def calculate_xi_squared(num_of_values: int, sample_dispersion: float, hypothesis_dispersion: float):\n",
    "    xi_squeared_value  = (num_of_values - 1) * sample_dispersion / hypothesis_dispersion\n",
    "    \n",
    "    return xi_squeared_value\n",
    "\n",
    "def get_probability_density_function_value(xi_squeared_value: float, degree_freedom_num: int = 1):\n",
    "    probability_density_function_value = scipy.stats.chi2.cdf(xi_squeared_value, degree_freedom_num)\n",
    "    \n",
    "    return probability_density_function_value\n",
    "\n",
    "def get_confidence_interval_value(confidence_value: float, degree_freedom_num: int = 1):\n",
    "    confidence_interval_value = scipy.stats.distributions.chi2.ppf(\n",
    "        q=confidence_value, \n",
    "        df=degree_freedom_num\n",
    "    )\n",
    "    \n",
    "    return confidence_interval_value\n",
    "    "
   ]
  },
  {
   "cell_type": "markdown",
   "id": "express-karaoke",
   "metadata": {},
   "source": [
    "## Load iris data"
   ]
  },
  {
   "cell_type": "code",
   "execution_count": 3,
   "id": "several-routine",
   "metadata": {},
   "outputs": [],
   "source": [
    "def load_iris_dataset():\n",
    "    data_iris = datasets.load_iris()\n",
    "\n",
    "    target_names = data_iris['target_names']\n",
    "    \n",
    "    data_iris = pd.DataFrame(\n",
    "        data=np.c_[\n",
    "            data_iris['data'],\n",
    "            data_iris['target'], \n",
    "        ],\n",
    "        columns=data_iris['feature_names'] + ['target']\n",
    "    )\n",
    "    \n",
    "    data_iris['target_names'] = data_iris['target'].apply(\n",
    "        lambda x: target_names[int(x)]\n",
    "    )\n",
    "    \n",
    "    return data_iris"
   ]
  },
  {
   "cell_type": "code",
   "execution_count": 4,
   "id": "meaningful-lightweight",
   "metadata": {},
   "outputs": [
    {
     "data": {
      "text/html": [
       "<div>\n",
       "<style scoped>\n",
       "    .dataframe tbody tr th:only-of-type {\n",
       "        vertical-align: middle;\n",
       "    }\n",
       "\n",
       "    .dataframe tbody tr th {\n",
       "        vertical-align: top;\n",
       "    }\n",
       "\n",
       "    .dataframe thead th {\n",
       "        text-align: right;\n",
       "    }\n",
       "</style>\n",
       "<table border=\"1\" class=\"dataframe\">\n",
       "  <thead>\n",
       "    <tr style=\"text-align: right;\">\n",
       "      <th></th>\n",
       "      <th>sepal length (cm)</th>\n",
       "      <th>sepal width (cm)</th>\n",
       "      <th>petal length (cm)</th>\n",
       "      <th>petal width (cm)</th>\n",
       "      <th>target</th>\n",
       "      <th>target_names</th>\n",
       "    </tr>\n",
       "  </thead>\n",
       "  <tbody>\n",
       "    <tr>\n",
       "      <th>0</th>\n",
       "      <td>5.1</td>\n",
       "      <td>3.5</td>\n",
       "      <td>1.4</td>\n",
       "      <td>0.2</td>\n",
       "      <td>0.0</td>\n",
       "      <td>setosa</td>\n",
       "    </tr>\n",
       "    <tr>\n",
       "      <th>1</th>\n",
       "      <td>4.9</td>\n",
       "      <td>3.0</td>\n",
       "      <td>1.4</td>\n",
       "      <td>0.2</td>\n",
       "      <td>0.0</td>\n",
       "      <td>setosa</td>\n",
       "    </tr>\n",
       "    <tr>\n",
       "      <th>2</th>\n",
       "      <td>4.7</td>\n",
       "      <td>3.2</td>\n",
       "      <td>1.3</td>\n",
       "      <td>0.2</td>\n",
       "      <td>0.0</td>\n",
       "      <td>setosa</td>\n",
       "    </tr>\n",
       "    <tr>\n",
       "      <th>3</th>\n",
       "      <td>4.6</td>\n",
       "      <td>3.1</td>\n",
       "      <td>1.5</td>\n",
       "      <td>0.2</td>\n",
       "      <td>0.0</td>\n",
       "      <td>setosa</td>\n",
       "    </tr>\n",
       "    <tr>\n",
       "      <th>4</th>\n",
       "      <td>5.0</td>\n",
       "      <td>3.6</td>\n",
       "      <td>1.4</td>\n",
       "      <td>0.2</td>\n",
       "      <td>0.0</td>\n",
       "      <td>setosa</td>\n",
       "    </tr>\n",
       "  </tbody>\n",
       "</table>\n",
       "</div>"
      ],
      "text/plain": [
       "   sepal length (cm)  sepal width (cm)  petal length (cm)  petal width (cm)  \\\n",
       "0                5.1               3.5                1.4               0.2   \n",
       "1                4.9               3.0                1.4               0.2   \n",
       "2                4.7               3.2                1.3               0.2   \n",
       "3                4.6               3.1                1.5               0.2   \n",
       "4                5.0               3.6                1.4               0.2   \n",
       "\n",
       "   target target_names  \n",
       "0     0.0       setosa  \n",
       "1     0.0       setosa  \n",
       "2     0.0       setosa  \n",
       "3     0.0       setosa  \n",
       "4     0.0       setosa  "
      ]
     },
     "execution_count": 4,
     "metadata": {},
     "output_type": "execute_result"
    }
   ],
   "source": [
    "data_iris = load_iris_dataset()\n",
    "\n",
    "data_iris.head()"
   ]
  },
  {
   "cell_type": "markdown",
   "id": "narrative-liechtenstein",
   "metadata": {},
   "source": [
    "## EDA"
   ]
  },
  {
   "cell_type": "code",
   "execution_count": 5,
   "id": "typical-contamination",
   "metadata": {},
   "outputs": [
    {
     "data": {
      "text/plain": [
       "<AxesSubplot:title={'center':'Number of items in each class'}, xlabel='target_names', ylabel='count'>"
      ]
     },
     "execution_count": 5,
     "metadata": {},
     "output_type": "execute_result"
    },
    {
     "data": {
      "image/png": "[encoded data removed]",
      "text/plain": [
       "<Figure size 864x576 with 1 Axes>"
      ]
     },
     "metadata": {},
     "output_type": "display_data"
    }
   ],
   "source": [
    "fig, ax = plt.subplots(figsize=(12, 8))\n",
    "ax.set_title(f'Number of items in each class')\n",
    "\n",
    "sns.countplot(x=data_iris['target_names'], ax=ax)"
   ]
  },
  {
   "cell_type": "markdown",
   "id": "banned-click",
   "metadata": {},
   "source": [
    "## Create generated data"
   ]
  },
  {
   "cell_type": "code",
   "execution_count": 6,
   "id": "recognized-dressing",
   "metadata": {},
   "outputs": [
    {
     "name": "stdout",
     "output_type": "stream",
     "text": [
      "random_normal_distribution: \n",
      "[ 3.96663447  7.85728358  4.69678097  7.86823246  7.1942836   6.07760074\n",
      "  7.42595942  4.76947801  6.07880394  5.75726683  9.27472223  7.17285085\n",
      "  4.71734045  4.65451539  7.04545032  6.32639726  3.83122082  7.87430807\n",
      "  4.78502862  4.63215686  6.52590388  8.91233717  5.20691756  9.12527146\n",
      "  0.20866044  9.45488452  6.07518844  7.98893136  5.89740055  3.16129611\n",
      "  5.94113502  6.90102522  3.62494845  5.64855493  5.81543257  5.60536517\n",
      "  4.95631959  5.36588021  5.59805042  4.75305208  6.22978619  6.86413645\n",
      "  5.65555732  6.76867031  3.50069624  4.69798922  8.00470072  6.29145917\n",
      "  4.64446753  5.21573993  3.78439285  6.58437825  5.62973469  4.85406827\n",
      "  7.766268    3.28452358  7.9817336   6.87584294  7.28207757  5.57597405\n",
      " 11.10545947  7.50119486  1.65232539  7.34585332  6.5348694   4.57154626\n",
      "  4.58976846  4.71857127  5.93218701  8.19258997  6.02007106  6.65454859\n",
      "  6.50336801  4.80707588  6.0765688   5.32236919  4.74386175  4.536419\n",
      "  5.96337443  5.89862127  0.10190126  5.27212634  4.23823753  4.17414808\n",
      "  3.51666445  4.50625897  6.71413952  5.59495366  6.08010519  7.78748085\n",
      "  5.03074057  3.97992421  8.05905714  5.04861861  3.73094825  6.56892664\n",
      "  7.20569644  7.00664257  4.97454326  4.0686248 ]\n"
     ]
    }
   ],
   "source": [
    "mu = 6\n",
    "dispersion = 4\n",
    "num_of_values = 100\n",
    "\n",
    "sd = np.sqrt(dispersion)\n",
    "\n",
    "random_generator = np.random.default_rng()\n",
    "\n",
    "random_normal_distribution = random_generator.normal(\n",
    "    loc=mu,\n",
    "    scale=sd,\n",
    "    size=num_of_values\n",
    ")\n",
    "print(f'random_normal_distribution: \\n{random_normal_distribution}')"
   ]
  },
  {
   "cell_type": "code",
   "execution_count": 7,
   "id": "consistent-award",
   "metadata": {},
   "outputs": [
    {
     "data": {
      "text/plain": [
       "<AxesSubplot:title={'center':'Random distribution example'}, ylabel='Count'>"
      ]
     },
     "execution_count": 7,
     "metadata": {},
     "output_type": "execute_result"
    },
    {
     "data": {
      "image/png": "[encoded data removed]",
      "text/plain": [
       "<Figure size 864x576 with 1 Axes>"
      ]
     },
     "metadata": {},
     "output_type": "display_data"
    }
   ],
   "source": [
    "fig, ax = plt.subplots(figsize=(12, 8))\n",
    "ax.set_title(f'Random distribution example')\n",
    "\n",
    "sns.histplot(\n",
    "    random_normal_distribution,\n",
    "    kde=True, ax=ax\n",
    ")"
   ]
  },
  {
   "cell_type": "markdown",
   "id": "curious-acrylic",
   "metadata": {},
   "source": [
    "## Pearson test"
   ]
  },
  {
   "cell_type": "code",
   "execution_count": 8,
   "id": "canadian-housing",
   "metadata": {},
   "outputs": [],
   "source": [
    "pvalue_edge = 0.05\n",
    "\n",
    "def get_expected_freq(distribution_values, data_values):\n",
    "    expected_frequencies = list()\n",
    "\n",
    "    for curr_value in data_values:\n",
    "        expected_pecent = scipy.stats.norm.pdf(\n",
    "            x=curr_value, \n",
    "            loc=mu,\n",
    "            scale=sd\n",
    "        )\n",
    "\n",
    "        expected_frequencies.append(\n",
    "            len(distribution_values) * expected_pecent\n",
    "        )\n",
    "        \n",
    "    return expected_frequencies"
   ]
  },
  {
   "cell_type": "code",
   "execution_count": 9,
   "id": "viral-consultation",
   "metadata": {},
   "outputs": [],
   "source": [
    "observed_frequencies, data_values = np.histogram(\n",
    "    a=random_normal_distribution\n",
    ")\n",
    "data_values = [((prev_value + value) / 2 )\n",
    "               for prev_value, value in zip(data_values[:-1], data_values[1:])]\n",
    "\n",
    "expected_frequencies = get_expected_freq(distribution_values=random_normal_distribution, data_values=data_values)"
   ]
  },
  {
   "cell_type": "code",
   "execution_count": 10,
   "id": "tribal-liberal",
   "metadata": {},
   "outputs": [
    {
     "data": {
      "text/plain": [
       "<matplotlib.legend.Legend at 0x7efe1b8c2a30>"
      ]
     },
     "execution_count": 10,
     "metadata": {},
     "output_type": "execute_result"
    },
    {
     "data": {
      "image/png": "[encoded data removed]",
      "text/plain": [
       "<Figure size 864x576 with 1 Axes>"
      ]
     },
     "metadata": {},
     "output_type": "display_data"
    }
   ],
   "source": [
    "plt.subplots(figsize=(12, 8))\n",
    "plt.title('Distributions together')\n",
    "\n",
    "sns.barplot(x=np.round(data_values, 1), y=observed_frequencies, color='red', alpha=0.5, label='Observed')\n",
    "sns.barplot(x=np.round(data_values, 1), y=expected_frequencies, color='green', alpha=0.5, label='Expected')\n",
    "\n",
    "plt.legend()"
   ]
  },
  {
   "cell_type": "code",
   "execution_count": 11,
   "id": "prospective-morning",
   "metadata": {},
   "outputs": [
    {
     "name": "stdout",
     "output_type": "stream",
     "text": [
      "Xi squeared value: 16.301509981939688\n",
      "Is from normal ditribution: False\n"
     ]
    }
   ],
   "source": [
    "stats_info = scipy.stats.chisquare(\n",
    "    observed_frequencies, \n",
    "    expected_frequencies,\n",
    "    ddof = 2\n",
    ")\n",
    "\n",
    "xi_squeared_value = stats_info.statistic\n",
    "pvalue = stats_info.pvalue\n",
    "\n",
    "is_from_normal_distribution = pvalue > pvalue_edge and pvalue < 1 - pvalue_edge\n",
    "\n",
    "print(f'Xi squeared value: {xi_squeared_value}')\n",
    "print(f'Is from normal ditribution: {is_from_normal_distribution}')"
   ]
  },
  {
   "cell_type": "markdown",
   "id": "bearing-bloom",
   "metadata": {},
   "source": [
    "## Kolmogorov criterion "
   ]
  },
  {
   "cell_type": "code",
   "execution_count": 12,
   "id": "running-details",
   "metadata": {},
   "outputs": [
    {
     "name": "stdout",
     "output_type": "stream",
     "text": [
      "Kolmogorov value: 0.2\n",
      "Is from normal ditribution: True\n"
     ]
    }
   ],
   "source": [
    "stats_info = scipy.stats.kstest(\n",
    "    rvs=observed_frequencies, \n",
    "    cdf=expected_frequencies,\n",
    ")\n",
    "\n",
    "kolmogorov_value = stats_info.statistic\n",
    "pvalue = stats_info.pvalue\n",
    "\n",
    "is_from_normal_distribution = pvalue > pvalue_edge\n",
    "\n",
    "print(f'Kolmogorov value: {kolmogorov_value}')\n",
    "print(f'Is from normal ditribution: {is_from_normal_distribution}')"
   ]
  },
  {
   "cell_type": "markdown",
   "id": "rising-pottery",
   "metadata": {},
   "source": [
    "## Student's t-test"
   ]
  },
  {
   "cell_type": "markdown",
   "id": "following-surrey",
   "metadata": {},
   "source": [
    "### Mean values equality"
   ]
  },
  {
   "cell_type": "markdown",
   "id": "israeli-support",
   "metadata": {},
   "source": [
    "#### Normal distribution values"
   ]
  },
  {
   "cell_type": "code",
   "execution_count": 13,
   "id": "embedded-harvard",
   "metadata": {},
   "outputs": [
    {
     "name": "stdout",
     "output_type": "stream",
     "text": [
      "Num of random values 1: 40\n",
      "Num of random values 2: 60\n"
     ]
    }
   ],
   "source": [
    "mu = 6\n",
    "dispersion = 4\n",
    "\n",
    "num_of_values1 = 40\n",
    "num_of_values2 = 60\n",
    "\n",
    "random_normal_distribution1 = random_generator.normal(\n",
    "    loc=mu,\n",
    "    scale=sd,\n",
    "    size=num_of_values1\n",
    ")\n",
    "\n",
    "random_normal_distribution2 = random_generator.normal(\n",
    "    loc=mu,\n",
    "    scale=sd,\n",
    "    size=num_of_values2\n",
    ")\n",
    "\n",
    "print(f'Num of random values 1: {len(random_normal_distribution1)}')\n",
    "print(f'Num of random values 2: {len(random_normal_distribution2)}')"
   ]
  },
  {
   "cell_type": "code",
   "execution_count": 14,
   "id": "steady-motel",
   "metadata": {},
   "outputs": [
    {
     "name": "stdout",
     "output_type": "stream",
     "text": [
      "Tvalue: 0.5552148728254032\n",
      "Ditributions have same means: True\n"
     ]
    }
   ],
   "source": [
    "ttest_info = scipy.stats.ttest_ind(\n",
    "    a=random_normal_distribution1,\n",
    "    b=random_normal_distribution2\n",
    ")\n",
    "\n",
    "tvalue = ttest_info.statistic\n",
    "pvalue = ttest_info.pvalue\n",
    "\n",
    "ditributions_have_same_means = pvalue > pvalue_edge\n",
    "\n",
    "print(f'Tvalue: {tvalue}')\n",
    "print(f'Ditributions have same means: {ditributions_have_same_means}')"
   ]
  },
  {
   "cell_type": "code",
   "execution_count": 15,
   "id": "placed-enemy",
   "metadata": {},
   "outputs": [
    {
     "data": {
      "text/plain": [
       "(6.091409981025625, 5.866069538410126)"
      ]
     },
     "execution_count": 15,
     "metadata": {},
     "output_type": "execute_result"
    }
   ],
   "source": [
    "np.mean(random_normal_distribution1), np.mean(random_normal_distribution2)"
   ]
  },
  {
   "cell_type": "markdown",
   "id": "concrete-theater",
   "metadata": {},
   "source": [
    "#### Iris data"
   ]
  },
  {
   "cell_type": "code",
   "execution_count": 16,
   "id": "egyptian-surrey",
   "metadata": {},
   "outputs": [
    {
     "data": {
      "text/html": [
       "<div>\n",
       "<style scoped>\n",
       "    .dataframe tbody tr th:only-of-type {\n",
       "        vertical-align: middle;\n",
       "    }\n",
       "\n",
       "    .dataframe tbody tr th {\n",
       "        vertical-align: top;\n",
       "    }\n",
       "\n",
       "    .dataframe thead th {\n",
       "        text-align: right;\n",
       "    }\n",
       "</style>\n",
       "<table border=\"1\" class=\"dataframe\">\n",
       "  <thead>\n",
       "    <tr style=\"text-align: right;\">\n",
       "      <th></th>\n",
       "      <th>sepal length (cm)</th>\n",
       "      <th>sepal width (cm)</th>\n",
       "      <th>petal length (cm)</th>\n",
       "      <th>petal width (cm)</th>\n",
       "      <th>target</th>\n",
       "      <th>target_names</th>\n",
       "    </tr>\n",
       "  </thead>\n",
       "  <tbody>\n",
       "    <tr>\n",
       "      <th>0</th>\n",
       "      <td>5.1</td>\n",
       "      <td>3.5</td>\n",
       "      <td>1.4</td>\n",
       "      <td>0.2</td>\n",
       "      <td>0.0</td>\n",
       "      <td>setosa</td>\n",
       "    </tr>\n",
       "    <tr>\n",
       "      <th>1</th>\n",
       "      <td>4.9</td>\n",
       "      <td>3.0</td>\n",
       "      <td>1.4</td>\n",
       "      <td>0.2</td>\n",
       "      <td>0.0</td>\n",
       "      <td>setosa</td>\n",
       "    </tr>\n",
       "    <tr>\n",
       "      <th>2</th>\n",
       "      <td>4.7</td>\n",
       "      <td>3.2</td>\n",
       "      <td>1.3</td>\n",
       "      <td>0.2</td>\n",
       "      <td>0.0</td>\n",
       "      <td>setosa</td>\n",
       "    </tr>\n",
       "    <tr>\n",
       "      <th>3</th>\n",
       "      <td>4.6</td>\n",
       "      <td>3.1</td>\n",
       "      <td>1.5</td>\n",
       "      <td>0.2</td>\n",
       "      <td>0.0</td>\n",
       "      <td>setosa</td>\n",
       "    </tr>\n",
       "    <tr>\n",
       "      <th>4</th>\n",
       "      <td>5.0</td>\n",
       "      <td>3.6</td>\n",
       "      <td>1.4</td>\n",
       "      <td>0.2</td>\n",
       "      <td>0.0</td>\n",
       "      <td>setosa</td>\n",
       "    </tr>\n",
       "  </tbody>\n",
       "</table>\n",
       "</div>"
      ],
      "text/plain": [
       "   sepal length (cm)  sepal width (cm)  petal length (cm)  petal width (cm)  \\\n",
       "0                5.1               3.5                1.4               0.2   \n",
       "1                4.9               3.0                1.4               0.2   \n",
       "2                4.7               3.2                1.3               0.2   \n",
       "3                4.6               3.1                1.5               0.2   \n",
       "4                5.0               3.6                1.4               0.2   \n",
       "\n",
       "   target target_names  \n",
       "0     0.0       setosa  \n",
       "1     0.0       setosa  \n",
       "2     0.0       setosa  \n",
       "3     0.0       setosa  \n",
       "4     0.0       setosa  "
      ]
     },
     "execution_count": 16,
     "metadata": {},
     "output_type": "execute_result"
    }
   ],
   "source": [
    "data_iris.head()"
   ]
  },
  {
   "cell_type": "code",
   "execution_count": 17,
   "id": "dramatic-dragon",
   "metadata": {},
   "outputs": [],
   "source": [
    "setosa_sepal_width = data_iris.loc[data_iris['target_names'] == 'setosa']['sepal width (cm)']\n",
    "virginica_sepal_width = data_iris.loc[data_iris['target_names'] == 'virginica']['sepal width (cm)']\n",
    "\n",
    "setosa_petal_length = data_iris.loc[data_iris['target_names'] == 'setosa']['petal length (cm)']\n",
    "virginica_petal_length = data_iris.loc[data_iris['target_names'] == 'virginica']['petal length (cm)']\n",
    "\n",
    "assert len(setosa_sepal_width) != 0 \n",
    "assert len(setosa_sepal_width) == len(virginica_sepal_width)\n",
    "\n",
    "assert len(setosa_petal_length) != 0 \n",
    "assert len(setosa_petal_length) == len(virginica_petal_length)"
   ]
  },
  {
   "cell_type": "code",
   "execution_count": 18,
   "id": "illegal-praise",
   "metadata": {},
   "outputs": [
    {
     "name": "stdout",
     "output_type": "stream",
     "text": [
      "Tvalue: 6.450349089630728\n",
      "Ditributions have same means: False\n"
     ]
    }
   ],
   "source": [
    "ttest_info = scipy.stats.ttest_ind(\n",
    "    a=setosa_sepal_width,\n",
    "    b=virginica_sepal_width\n",
    ")\n",
    "\n",
    "tvalue = ttest_info.statistic\n",
    "pvalue = ttest_info.pvalue\n",
    "\n",
    "ditributions_have_same_means = pvalue > pvalue_edge\n",
    "\n",
    "print(f'Tvalue: {tvalue}')\n",
    "print(f'Ditributions have same means: {ditributions_have_same_means}')"
   ]
  },
  {
   "cell_type": "code",
   "execution_count": 19,
   "id": "quality-studio",
   "metadata": {},
   "outputs": [
    {
     "data": {
      "text/plain": [
       "(3.428, 2.974)"
      ]
     },
     "execution_count": 19,
     "metadata": {},
     "output_type": "execute_result"
    }
   ],
   "source": [
    "np.mean(setosa_sepal_width), np.mean(virginica_sepal_width)"
   ]
  },
  {
   "cell_type": "code",
   "execution_count": 20,
   "id": "creative-shell",
   "metadata": {},
   "outputs": [
    {
     "name": "stdout",
     "output_type": "stream",
     "text": [
      "Tvalue: -49.98618625709594\n",
      "Ditributions have same means: False\n"
     ]
    }
   ],
   "source": [
    "ttest_info = scipy.stats.ttest_ind(\n",
    "    a=setosa_petal_length,\n",
    "    b=virginica_petal_length\n",
    ")\n",
    "\n",
    "tvalue = ttest_info.statistic\n",
    "pvalue = ttest_info.pvalue\n",
    "\n",
    "ditributions_have_same_means = pvalue > pvalue_edge\n",
    "\n",
    "print(f'Tvalue: {tvalue}')\n",
    "print(f'Ditributions have same means: {ditributions_have_same_means}')"
   ]
  },
  {
   "cell_type": "code",
   "execution_count": 21,
   "id": "smaller-disabled",
   "metadata": {},
   "outputs": [
    {
     "data": {
      "text/plain": [
       "(1.4620000000000002, 5.5520000000000005)"
      ]
     },
     "execution_count": 21,
     "metadata": {},
     "output_type": "execute_result"
    }
   ],
   "source": [
    "np.mean(setosa_petal_length), np.mean(virginica_petal_length)"
   ]
  },
  {
   "cell_type": "markdown",
   "id": "upset-patrick",
   "metadata": {},
   "source": [
    "### Dispersion equality"
   ]
  },
  {
   "cell_type": "code",
   "execution_count": 22,
   "id": "cordless-beijing",
   "metadata": {},
   "outputs": [],
   "source": [
    "def fisher_stat(first, second):\n",
    "    first_value = np.sum((first - np.mean(first)) ** 2) / (len(first) - 1)\n",
    "    second_value = np.sum((second - np.mean(second)) ** 2) / (len(second) - 1)    \n",
    "    \n",
    "    fisher_stat_value = first_value / second_value\n",
    "    \n",
    "    return fisher_stat_value\n",
    "\n",
    "def get_quantile_fisher_value(quantile, total_number_of_subjects, number_of_groups = 2):\n",
    "    dfn = number_of_groups - 1\n",
    "    dfd = total_number_of_subjects - number_of_groups\n",
    "    \n",
    "    f_value = scipy.stats.f.ppf(q=quantile, dfn=dfn, dfd=dfd)\n",
    "    \n",
    "    return f_value"
   ]
  },
  {
   "cell_type": "markdown",
   "id": "alert-string",
   "metadata": {},
   "source": [
    "#### Normal distribution values"
   ]
  },
  {
   "cell_type": "code",
   "execution_count": 23,
   "id": "honest-kenya",
   "metadata": {},
   "outputs": [
    {
     "name": "stdout",
     "output_type": "stream",
     "text": [
      "Num of random values 1: 40\n",
      "Num of random values 2: 60\n"
     ]
    }
   ],
   "source": [
    "mu = 6\n",
    "dispersion = 4\n",
    "\n",
    "num_of_values1 = 40\n",
    "num_of_values2 = 60\n",
    "\n",
    "random_normal_distribution1 = random_generator.normal(\n",
    "    loc=mu,\n",
    "    scale=sd,\n",
    "    size=num_of_values1\n",
    ")\n",
    "\n",
    "random_normal_distribution2 = random_generator.normal(\n",
    "    loc=mu,\n",
    "    scale=sd,\n",
    "    size=num_of_values2\n",
    ")\n",
    "\n",
    "print(f'Num of random values 1: {len(random_normal_distribution1)}')\n",
    "print(f'Num of random values 2: {len(random_normal_distribution2)}')"
   ]
  },
  {
   "cell_type": "code",
   "execution_count": 24,
   "id": "polyphonic-segment",
   "metadata": {},
   "outputs": [
    {
     "name": "stdout",
     "output_type": "stream",
     "text": [
      "Fisher value: 1.0982839508366677\n"
     ]
    }
   ],
   "source": [
    "fisher_value = fisher_stat(\n",
    "    first=random_normal_distribution1,\n",
    "    second=random_normal_distribution2\n",
    ")\n",
    "\n",
    "print(f'Fisher value: {fisher_value}')"
   ]
  },
  {
   "cell_type": "code",
   "execution_count": 25,
   "id": "hydraulic-billy",
   "metadata": {},
   "outputs": [
    {
     "name": "stdout",
     "output_type": "stream",
     "text": [
      "Start f value: 0.003952332482848507\n",
      "End f value: 3.938111078003371\n",
      "Dispersions are equal: True\n"
     ]
    }
   ],
   "source": [
    "start_f_value = get_quantile_fisher_value(\n",
    "    quantile=pvalue_edge,\n",
    "    total_number_of_subjects=num_of_values1 + num_of_values2,\n",
    "    number_of_groups=2 \n",
    ")\n",
    "\n",
    "end_f_value = get_quantile_fisher_value(\n",
    "    quantile=1 - pvalue_edge,\n",
    "    total_number_of_subjects=num_of_values1 + num_of_values2,\n",
    "    number_of_groups=2 \n",
    ")\n",
    "\n",
    "print(f'Start f value: {start_f_value}')\n",
    "print(f'End f value: {end_f_value}')\n",
    "\n",
    "dispersions_are_equal = (fisher_value > start_f_value) and (fisher_value < end_f_value)\n",
    "\n",
    "print(f'Dispersions are equal: {dispersions_are_equal}')"
   ]
  },
  {
   "cell_type": "markdown",
   "id": "lucky-investigation",
   "metadata": {},
   "source": [
    "#### Iris data"
   ]
  },
  {
   "cell_type": "code",
   "execution_count": 26,
   "id": "fancy-commitment",
   "metadata": {},
   "outputs": [],
   "source": [
    "setosa_sepal_width = data_iris.loc[data_iris['target_names'] == 'setosa']['sepal width (cm)']\n",
    "virginica_sepal_width = data_iris.loc[data_iris['target_names'] == 'virginica']['sepal width (cm)']\n",
    "\n",
    "setosa_petal_length = data_iris.loc[data_iris['target_names'] == 'setosa']['petal length (cm)']\n",
    "virginica_petal_length = data_iris.loc[data_iris['target_names'] == 'virginica']['petal length (cm)']\n",
    "\n",
    "assert len(setosa_sepal_width) != 0 \n",
    "assert len(setosa_sepal_width) == len(virginica_sepal_width)\n",
    "\n",
    "assert len(setosa_petal_length) != 0 \n",
    "assert len(setosa_petal_length) == len(virginica_petal_length)"
   ]
  },
  {
   "cell_type": "code",
   "execution_count": 27,
   "id": "beginning-strand",
   "metadata": {},
   "outputs": [
    {
     "name": "stdout",
     "output_type": "stream",
     "text": [
      "Fisher value: 1.3815784309877954\n",
      "Start f value: 0.003952332482848507\n",
      "End f value: 3.938111078003371\n",
      "Dispersions are equal: True\n"
     ]
    }
   ],
   "source": [
    "fisher_value = fisher_stat(\n",
    "    first=setosa_sepal_width,\n",
    "    second=virginica_sepal_width\n",
    ")\n",
    "\n",
    "print(f'Fisher value: {fisher_value}')\n",
    "\n",
    "start_f_value = get_quantile_fisher_value(\n",
    "    quantile=pvalue_edge,\n",
    "    total_number_of_subjects=len(setosa_sepal_width) + len(virginica_sepal_width),\n",
    "    number_of_groups=2 \n",
    ")\n",
    "\n",
    "end_f_value = get_quantile_fisher_value(\n",
    "    quantile=1 - pvalue_edge,\n",
    "    total_number_of_subjects=len(setosa_sepal_width) + len(virginica_sepal_width),\n",
    "    number_of_groups=2 \n",
    ")\n",
    "\n",
    "print(f'Start f value: {start_f_value}')\n",
    "print(f'End f value: {end_f_value}')\n",
    "\n",
    "dispersions_are_equal = (fisher_value > start_f_value) and (fisher_value < end_f_value)\n",
    "\n",
    "print(f'Dispersions are equal: {dispersions_are_equal}')"
   ]
  },
  {
   "cell_type": "code",
   "execution_count": 28,
   "id": "fossil-advancement",
   "metadata": {},
   "outputs": [
    {
     "data": {
      "text/plain": [
       "(0.37525458025186054, 0.3192553836664309)"
      ]
     },
     "execution_count": 28,
     "metadata": {},
     "output_type": "execute_result"
    }
   ],
   "source": [
    "np.std(setosa_sepal_width), np.std(virginica_sepal_width)"
   ]
  },
  {
   "cell_type": "code",
   "execution_count": 29,
   "id": "aware-canadian",
   "metadata": {},
   "outputs": [
    {
     "name": "stdout",
     "output_type": "stream",
     "text": [
      "Fisher value: 0.0990164022298456\n",
      "Start f value: 0.003952332482848507\n",
      "End f value: 3.938111078003371\n",
      "Dispersions are equal: True\n"
     ]
    }
   ],
   "source": [
    "fisher_value = fisher_stat(\n",
    "    first=setosa_petal_length,\n",
    "    second=virginica_petal_length\n",
    ")\n",
    "\n",
    "print(f'Fisher value: {fisher_value}')\n",
    "\n",
    "start_f_value = get_quantile_fisher_value(\n",
    "    quantile=pvalue_edge,\n",
    "    total_number_of_subjects=len(setosa_sepal_width) + len(virginica_sepal_width),\n",
    "    number_of_groups=2 \n",
    ")\n",
    "\n",
    "end_f_value = get_quantile_fisher_value(\n",
    "    quantile=1 - pvalue_edge,\n",
    "    total_number_of_subjects=len(setosa_sepal_width) + len(virginica_sepal_width),\n",
    "    number_of_groups=2 \n",
    ")\n",
    "\n",
    "print(f'Start f value: {start_f_value}')\n",
    "print(f'End f value: {end_f_value}')\n",
    "\n",
    "dispersions_are_equal = (fisher_value > start_f_value) and (fisher_value < end_f_value)\n",
    "\n",
    "print(f'Dispersions are equal: {dispersions_are_equal}')"
   ]
  },
  {
   "cell_type": "code",
   "execution_count": 33,
   "id": "sapphire-hearts",
   "metadata": {},
   "outputs": [
    {
     "data": {
      "text/plain": [
       "(0.17191858538273283, 0.546347874526844)"
      ]
     },
     "execution_count": 33,
     "metadata": {},
     "output_type": "execute_result"
    }
   ],
   "source": [
    "np.std(setosa_petal_length), np.std(virginica_petal_length)"
   ]
  }
 ],
 "metadata": {
  "kernelspec": {
   "display_name": "Python 3",
   "language": "python",
   "name": "python3"
  },
  "language_info": {
   "codemirror_mode": {
    "name": "ipython",
    "version": 3
   },
   "file_extension": ".py",
   "mimetype": "text/x-python",
   "name": "python",
   "nbconvert_exporter": "python",
   "pygments_lexer": "ipython3",
   "version": "3.8.2"
  }
 },
 "nbformat": 4,
 "nbformat_minor": 5
}
